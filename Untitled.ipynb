{
 "cells": [
  {
   "cell_type": "code",
   "execution_count": 1,
   "id": "7fc5e5ba-0e1d-410e-a3cd-4d3c112391a8",
   "metadata": {},
   "outputs": [
    {
     "ename": "ModuleNotFoundError",
     "evalue": "No module named 'matplotlib'",
     "output_type": "error",
     "traceback": [
      "\u001b[0;31m---------------------------------------------------------------------------\u001b[0m",
      "\u001b[0;31mModuleNotFoundError\u001b[0m                       Traceback (most recent call last)",
      "Cell \u001b[0;32mIn[1], line 1\u001b[0m\n\u001b[0;32m----> 1\u001b[0m \u001b[38;5;28;01mimport\u001b[39;00m \u001b[38;5;21;01mmatplotlib\u001b[39;00m\u001b[38;5;21;01m.\u001b[39;00m\u001b[38;5;21;01mpyplot\u001b[39;00m \u001b[38;5;28;01mas\u001b[39;00m \u001b[38;5;21;01mplt\u001b[39;00m\n\u001b[1;32m      2\u001b[0m \u001b[38;5;28;01mimport\u001b[39;00m \u001b[38;5;21;01mnumpy\u001b[39;00m \u001b[38;5;28;01mas\u001b[39;00m \u001b[38;5;21;01mnp\u001b[39;00m\n\u001b[1;32m      4\u001b[0m t \u001b[38;5;241m=\u001b[39m np\u001b[38;5;241m.\u001b[39marange(\u001b[38;5;241m0.0\u001b[39m, \u001b[38;5;241m24.0\u001b[39m, \u001b[38;5;241m0.1\u001b[39m)\n",
      "\u001b[0;31mModuleNotFoundError\u001b[0m: No module named 'matplotlib'"
     ]
    }
   ],
   "source": [
    "import matplotlib.pyplot as plt\n",
    "import numpy as np\n",
    "\n",
    "t = np.arange(0.0, 24.0, 0.1)\n",
    "s = np.sin((t-5)/4)\n",
    "\n",
    "plt.plot(t, s)\n",
    "plt.text(0, -1, r'Moon inclinaison', fontsize=15)\n",
    "plt.title(r'$\\mathcal{A}\\sin(\\omega t)$', fontsize=20)\n",
    "plt.xlabel('Time [h]')\n",
    "plt.ylabel('Angle [degrees]')\n",
    "plt.grid(True, linestyle='-.')\n",
    "plt.show"
   ]
  },
  {
   "cell_type": "code",
   "execution_count": 1,
   "id": "9d6396c3-3269-4986-a191-dedbf828f73d",
   "metadata": {},
   "outputs": [
    {
     "name": "stdout",
     "output_type": "stream",
     "text": [
      "['/Users/kalou/dev/moon-ipynb', '/opt/homebrew/Cellar/python@3.12/3.12.0/Frameworks/Python.framework/Versions/3.12/lib/python312.zip', '/opt/homebrew/Cellar/python@3.12/3.12.0/Frameworks/Python.framework/Versions/3.12/lib/python3.12', '/opt/homebrew/Cellar/python@3.12/3.12.0/Frameworks/Python.framework/Versions/3.12/lib/python3.12/lib-dynload', '', '/opt/homebrew/Cellar/jupyterlab/4.0.9_1/libexec/lib/python3.12/site-packages', '/opt/homebrew/opt/ipython/libexec/lib/python3.12/site-packages', '/opt/homebrew/opt/python-lsp-server/libexec/lib/python3.12/site-packages', '/opt/homebrew/opt/z3/lib/python3.12/site-packages', '/opt/homebrew/opt/llvm/lib/python3.12/site-packages', '/opt/homebrew/opt/pycparser/lib/python3.12/site-packages', '/opt/homebrew/opt/cffi/lib/python3.12/site-packages', '/opt/homebrew/opt/python-packaging/lib/python3.12/site-packages', '/opt/homebrew/opt/pygments/lib/python3.12/site-packages', '/opt/homebrew/opt/six/lib/python3.12/site-packages', '/opt/homebrew/opt/python-certifi/lib/python3.12/site-packages', '/opt/homebrew/opt/python-markupsafe/lib/python3.12/site-packages', '/opt/homebrew/opt/python-dateutil/lib/python3.12/site-packages', '/opt/homebrew/opt/python-jinja/lib/python3.12/site-packages', '/opt/homebrew/opt/python-psutil/lib/python3.12/site-packages', '/opt/homebrew/opt/python-charset-normalizer/lib/python3.12/site-packages', '/opt/homebrew/opt/python-idna/lib/python3.12/site-packages', '/opt/homebrew/opt/python-urllib3/lib/python3.12/site-packages', '/opt/homebrew/opt/python-requests/lib/python3.12/site-packages', '/opt/homebrew/opt/pyyaml/lib/python3.12/site-packages', '/opt/homebrew/opt/z3/lib/python3.12/site-packages', '/opt/homebrew/lib/python3.12/site-packages', '/opt/homebrew/lib/python3.12/site-packages']\n"
     ]
    }
   ],
   "source": [
    "import sys\n",
    "print(sys.path)\n"
   ]
  },
  {
   "cell_type": "code",
   "execution_count": null,
   "id": "fa90e3e1-8476-40c1-a353-7719e436d722",
   "metadata": {},
   "outputs": [],
   "source": []
  },
  {
   "cell_type": "code",
   "execution_count": null,
   "id": "d38a937e-e389-4fa8-8569-dea5a400204c",
   "metadata": {},
   "outputs": [],
   "source": []
  }
 ],
 "metadata": {
  "kernelspec": {
   "display_name": "Python 3 (ipykernel)",
   "language": "python",
   "name": "python3"
  },
  "language_info": {
   "codemirror_mode": {
    "name": "ipython",
    "version": 3
   },
   "file_extension": ".py",
   "mimetype": "text/x-python",
   "name": "python",
   "nbconvert_exporter": "python",
   "pygments_lexer": "ipython3",
   "version": "3.12.0"
  }
 },
 "nbformat": 4,
 "nbformat_minor": 5
}
